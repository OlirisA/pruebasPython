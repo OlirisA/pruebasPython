{
  "nbformat": 4,
  "nbformat_minor": 0,
  "metadata": {
    "colab": {
      "name": "prueba01.ipynb",
      "provenance": [],
      "authorship_tag": "ABX9TyOcjP7Gt8vcnHGbLFEvDoTY",
      "include_colab_link": true
    },
    "kernelspec": {
      "name": "python3",
      "display_name": "Python 3"
    },
    "language_info": {
      "name": "python"
    }
  },
  "cells": [
    {
      "cell_type": "markdown",
      "metadata": {
        "id": "view-in-github",
        "colab_type": "text"
      },
      "source": [
        "<a href=\"https://colab.research.google.com/github/OlirisA/pruebasPython/blob/main/prueba01.ipynb\" target=\"_parent\"><img src=\"https://colab.research.google.com/assets/colab-badge.svg\" alt=\"Open In Colab\"/></a>"
      ]
    },
    {
      "cell_type": "code",
      "execution_count": 1,
      "metadata": {
        "colab": {
          "base_uri": "https://localhost:8080/"
        },
        "id": "J8W-O2Qgi3RM",
        "outputId": "20362a7e-0a0e-4804-e8c7-5f398196399d"
      },
      "outputs": [
        {
          "output_type": "stream",
          "name": "stdout",
          "text": [
            "Hola Mundo\n"
          ]
        }
      ],
      "source": [
        "print(\"Hola Mundo\");"
      ]
    },
    {
      "cell_type": "code",
      "source": [
        "print(\"soy Oli\");"
      ],
      "metadata": {
        "colab": {
          "base_uri": "https://localhost:8080/"
        },
        "id": "zonvZphSktNh",
        "outputId": "0efc6b03-6880-4dca-a4f2-eccfb96ab537"
      },
      "execution_count": 2,
      "outputs": [
        {
          "output_type": "stream",
          "name": "stdout",
          "text": [
            "soy Oli\n"
          ]
        }
      ]
    },
    {
      "cell_type": "markdown",
      "source": [
        "***comentario***"
      ],
      "metadata": {
        "id": "70oKzzpvkzVb"
      }
    },
    {
      "cell_type": "markdown",
      "source": [
        "**Mostrar** **por** **pantalla** **la** **suma** **de** **dos** **números**"
      ],
      "metadata": {
        "id": "BIqyMER9lMM9"
      }
    },
    {
      "cell_type": "code",
      "source": [
        "numero1 = int(input(\"Ingrese primer número: \"));"
      ],
      "metadata": {
        "colab": {
          "base_uri": "https://localhost:8080/"
        },
        "id": "ZzYULCdclhKN",
        "outputId": "5a92c605-65d1-4064-e895-88b5dfd39f2e"
      },
      "execution_count": 6,
      "outputs": [
        {
          "name": "stdout",
          "output_type": "stream",
          "text": [
            "Ingrese primer número: 5\n"
          ]
        }
      ]
    },
    {
      "cell_type": "code",
      "source": [
        "numero2 = float(input(\"Ingrese segundo número: \"));"
      ],
      "metadata": {
        "colab": {
          "base_uri": "https://localhost:8080/"
        },
        "id": "BoVxcf_Hlul8",
        "outputId": "002990d9-5bc9-4028-9186-687e1cec71cd"
      },
      "execution_count": 10,
      "outputs": [
        {
          "name": "stdout",
          "output_type": "stream",
          "text": [
            "Ingrese segundo número: 3.14\n"
          ]
        }
      ]
    },
    {
      "cell_type": "code",
      "source": [
        "total = numero1 + numero2\n",
        "print(total)"
      ],
      "metadata": {
        "colab": {
          "base_uri": "https://localhost:8080/"
        },
        "id": "Bj64szWrv_1Q",
        "outputId": "7d4f94e0-3170-450f-e8dc-f610f1e42a29"
      },
      "execution_count": 11,
      "outputs": [
        {
          "output_type": "stream",
          "name": "stdout",
          "text": [
            "8.14\n"
          ]
        }
      ]
    }
  ]
}