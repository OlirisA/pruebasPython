{
  "nbformat": 4,
  "nbformat_minor": 0,
  "metadata": {
    "colab": {
      "name": "sentenciaContral.ipynb",
      "provenance": [],
      "authorship_tag": "ABX9TyOfXWX2dyirQ4V5oMr9msTj",
      "include_colab_link": true
    },
    "kernelspec": {
      "name": "python3",
      "display_name": "Python 3"
    },
    "language_info": {
      "name": "python"
    }
  },
  "cells": [
    {
      "cell_type": "markdown",
      "metadata": {
        "id": "view-in-github",
        "colab_type": "text"
      },
      "source": [
        "<a href=\"https://colab.research.google.com/github/OlirisA/pruebasPython/blob/main/sentenciaContral.ipynb\" target=\"_parent\"><img src=\"https://colab.research.google.com/assets/colab-badge.svg\" alt=\"Open In Colab\"/></a>"
      ]
    },
    {
      "cell_type": "markdown",
      "source": [
        "EJERCICIO IF/ELSE\n",
        "\n",
        "if **dato = hi**\n",
        "\n",
        "print**(\"algo\")**\n",
        "\n",
        "else:\n",
        "\n",
        "print**(\"otracosa\")**"
      ],
      "metadata": {
        "id": "SDWik2ZLZuTh"
      }
    },
    {
      "cell_type": "code",
      "source": [
        "condición = False\n",
        "\n",
        "if condición == True:\n",
        "  print(\"es verdad\")\n",
        "else:\n",
        "  print(\"es falso\")"
      ],
      "metadata": {
        "colab": {
          "base_uri": "https://localhost:8080/"
        },
        "id": "noQOJrDnakNm",
        "outputId": "95f83ef1-432c-4052-b473-ee056ccb65dc"
      },
      "execution_count": null,
      "outputs": [
        {
          "output_type": "stream",
          "name": "stdout",
          "text": [
            "es falso\n"
          ]
        }
      ]
    },
    {
      "cell_type": "code",
      "source": [
        "x = input(\"Ingrese True o False: \")\n",
        "\n",
        "if x == \"True\":\n",
        "  print(\"es verdad\")\n",
        "elif x == \"False\":\n",
        "  print(\"es falso\")\n",
        "else:\n",
        "  print(\"no encontrado\")"
      ],
      "metadata": {
        "colab": {
          "base_uri": "https://localhost:8080/"
        },
        "id": "cHeWojb2bqtJ",
        "outputId": "37346ade-edb5-432f-9a78-416bf73e829b"
      },
      "execution_count": null,
      "outputs": [
        {
          "output_type": "stream",
          "name": "stdout",
          "text": [
            "Ingrese True o False: True\n",
            "es verdad\n"
          ]
        }
      ]
    },
    {
      "cell_type": "code",
      "source": [
        "x = int(input(\"Ingrese 1 o 2: \"))\n",
        "\n",
        "if x == 1 or x == 2:\n",
        "  print(\"es verdad\")\n",
        "\n",
        "else:\n",
        "  print(\"no encontrado\")"
      ],
      "metadata": {
        "colab": {
          "base_uri": "https://localhost:8080/"
        },
        "id": "bcBaSAKskwCO",
        "outputId": "2d536e9c-9419-4371-a82a-ffd7bcaf61bb"
      },
      "execution_count": 37,
      "outputs": [
        {
          "output_type": "stream",
          "name": "stdout",
          "text": [
            "Ingrese 1 o 2: 1\n",
            "es verdad\n"
          ]
        }
      ]
    },
    {
      "cell_type": "code",
      "source": [
        "x = int(input(\"Ingrese 1 o 2: \"))\n",
        "\n",
        "if x == 1 and x == 2:\n",
        "  print(\"es verdad\")\n",
        "\n",
        "else:\n",
        "  print(\"no encontrado\")"
      ],
      "metadata": {
        "colab": {
          "base_uri": "https://localhost:8080/"
        },
        "id": "cRw3u-VoltCt",
        "outputId": "213a593f-b74e-4ed9-ad2b-7fa701be30f9"
      },
      "execution_count": 42,
      "outputs": [
        {
          "output_type": "stream",
          "name": "stdout",
          "text": [
            "Ingrese 1 o 2: 1\n",
            "no encontrado\n"
          ]
        }
      ]
    }
  ]
}