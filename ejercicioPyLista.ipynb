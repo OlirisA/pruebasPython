{
  "nbformat": 4,
  "nbformat_minor": 0,
  "metadata": {
    "colab": {
      "name": "ejercicioPyLista.ipynb",
      "provenance": [],
      "authorship_tag": "ABX9TyPt4VWizYdN3hWLoVbp57/4",
      "include_colab_link": true
    },
    "kernelspec": {
      "name": "python3",
      "display_name": "Python 3"
    },
    "language_info": {
      "name": "python"
    }
  },
  "cells": [
    {
      "cell_type": "markdown",
      "metadata": {
        "id": "view-in-github",
        "colab_type": "text"
      },
      "source": [
        "<a href=\"https://colab.research.google.com/github/OlirisA/pruebasPython/blob/main/ejercicioPyLista.ipynb\" target=\"_parent\"><img src=\"https://colab.research.google.com/assets/colab-badge.svg\" alt=\"Open In Colab\"/></a>"
      ]
    },
    {
      "cell_type": "code",
      "execution_count": 3,
      "metadata": {
        "colab": {
          "base_uri": "https://localhost:8080/"
        },
        "id": "8fQU7csCnhtx",
        "outputId": "dea6a99f-a724-4188-ec85-65c757ba6835"
      },
      "outputs": [
        {
          "output_type": "stream",
          "name": "stdout",
          "text": [
            "0\n",
            "3\n",
            "6\n",
            "9\n"
          ]
        }
      ],
      "source": [
        "for x in range (10):\n",
        "  if x % 3 == 0:\n",
        "    print(x)"
      ]
    },
    {
      "cell_type": "code",
      "source": [
        "for x in range (2,7):\n",
        "  \n",
        "  print(x)"
      ],
      "metadata": {
        "colab": {
          "base_uri": "https://localhost:8080/"
        },
        "id": "QSupycTTo2jB",
        "outputId": "0a57d9ad-fcbe-4d91-e988-d67992e963e1"
      },
      "execution_count": 16,
      "outputs": [
        {
          "output_type": "stream",
          "name": "stdout",
          "text": [
            "2\n",
            "3\n",
            "4\n",
            "5\n",
            "6\n"
          ]
        }
      ]
    },
    {
      "cell_type": "code",
      "source": [
        "for x in range (3,11):\n",
        "  if x % 2 != 0:\n",
        "    print(x)"
      ],
      "metadata": {
        "colab": {
          "base_uri": "https://localhost:8080/"
        },
        "id": "wEdui6-OqZUc",
        "outputId": "e85c1dab-338a-4970-80f6-6285e7c6bb40"
      },
      "execution_count": 25,
      "outputs": [
        {
          "output_type": "stream",
          "name": "stdout",
          "text": [
            "3\n",
            "5\n",
            "7\n",
            "9\n"
          ]
        }
      ]
    }
  ]
}