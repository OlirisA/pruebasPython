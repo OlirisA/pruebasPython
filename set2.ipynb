{
  "nbformat": 4,
  "nbformat_minor": 0,
  "metadata": {
    "colab": {
      "name": "set2.ipynb",
      "provenance": [],
      "authorship_tag": "ABX9TyNSTI5LFBYzeg8smqP4XJLT",
      "include_colab_link": true
    },
    "kernelspec": {
      "name": "python3",
      "display_name": "Python 3"
    },
    "language_info": {
      "name": "python"
    }
  },
  "cells": [
    {
      "cell_type": "markdown",
      "metadata": {
        "id": "view-in-github",
        "colab_type": "text"
      },
      "source": [
        "<a href=\"https://colab.research.google.com/github/OlirisA/pruebasPython/blob/main/set2.ipynb\" target=\"_parent\"><img src=\"https://colab.research.google.com/assets/colab-badge.svg\" alt=\"Open In Colab\"/></a>"
      ]
    },
    {
      "cell_type": "code",
      "execution_count": 14,
      "metadata": {
        "colab": {
          "base_uri": "https://localhost:8080/"
        },
        "id": "Yf403t96QslO",
        "outputId": "b88d3570-66e5-4a4a-f488-40b4811dee50"
      },
      "outputs": [
        {
          "output_type": "stream",
          "name": "stdout",
          "text": [
            "{'Júpiter', 'Venus', 'Marte'}\n"
          ]
        }
      ],
      "source": [
        "# set\n",
        "planetas = {'Marte', 'Júpiter', 'Venus'}\n",
        "print(planetas)"
      ]
    },
    {
      "cell_type": "code",
      "source": [
        "planetas.update(['Neptuno', 'Tierra'])\n",
        "print(planetas)"
      ],
      "metadata": {
        "colab": {
          "base_uri": "https://localhost:8080/"
        },
        "id": "yQuklPbQTqlA",
        "outputId": "16e73108-9f7e-4881-9bf3-e2a0cd06e4fe"
      },
      "execution_count": 15,
      "outputs": [
        {
          "output_type": "stream",
          "name": "stdout",
          "text": [
            "{'Neptuno', 'Venus', 'Júpiter', 'Marte', 'Tierra'}\n"
          ]
        }
      ]
    }
  ]
}