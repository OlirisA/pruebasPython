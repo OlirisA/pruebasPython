{
  "nbformat": 4,
  "nbformat_minor": 0,
  "metadata": {
    "colab": {
      "name": "cicloWhile.ipynb",
      "provenance": [],
      "authorship_tag": "ABX9TyMvlATA3rna6Lyx1hxGsTp8",
      "include_colab_link": true
    },
    "kernelspec": {
      "name": "python3",
      "display_name": "Python 3"
    },
    "language_info": {
      "name": "python"
    }
  },
  "cells": [
    {
      "cell_type": "markdown",
      "metadata": {
        "id": "view-in-github",
        "colab_type": "text"
      },
      "source": [
        "<a href=\"https://colab.research.google.com/github/OlirisA/pruebasPython/blob/main/cicloWhile.ipynb\" target=\"_parent\"><img src=\"https://colab.research.google.com/assets/colab-badge.svg\" alt=\"Open In Colab\"/></a>"
      ]
    },
    {
      "cell_type": "code",
      "execution_count": 16,
      "metadata": {
        "colab": {
          "base_uri": "https://localhost:8080/"
        },
        "id": "Ni0NSVAlnjgh",
        "outputId": "802e8ef6-4267-45e3-fcb9-58a73d27e88b"
      },
      "outputs": [
        {
          "output_type": "stream",
          "name": "stdout",
          "text": [
            "4\n",
            "8\n",
            "16\n"
          ]
        }
      ],
      "source": [
        "num = 2\n",
        "while num < 15:\n",
        "  num = num*2\n",
        "  print(num)"
      ]
    },
    {
      "cell_type": "code",
      "source": [
        "num = int(input(\"ingrese número: \"))\n",
        "while num < 15:\n",
        "  num = num*2\n",
        "  print(num)"
      ],
      "metadata": {
        "colab": {
          "base_uri": "https://localhost:8080/"
        },
        "id": "cLEd3yYSrmqF",
        "outputId": "9610d6d8-5ac5-4487-b499-c7a80f1952a8"
      },
      "execution_count": 18,
      "outputs": [
        {
          "output_type": "stream",
          "name": "stdout",
          "text": [
            "ingrese número: 2\n",
            "4\n",
            "8\n",
            "16\n"
          ]
        }
      ]
    }
  ]
}