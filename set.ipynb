{
  "nbformat": 4,
  "nbformat_minor": 0,
  "metadata": {
    "colab": {
      "name": "set.ipynb",
      "provenance": [],
      "authorship_tag": "ABX9TyOT2pZArAU9JT1ysUD8/XW+",
      "include_colab_link": true
    },
    "kernelspec": {
      "name": "python3",
      "display_name": "Python 3"
    },
    "language_info": {
      "name": "python"
    }
  },
  "cells": [
    {
      "cell_type": "markdown",
      "metadata": {
        "id": "view-in-github",
        "colab_type": "text"
      },
      "source": [
        "<a href=\"https://colab.research.google.com/github/OlirisA/pruebasPython/blob/main/set.ipynb\" target=\"_parent\"><img src=\"https://colab.research.google.com/assets/colab-badge.svg\" alt=\"Open In Colab\"/></a>"
      ]
    },
    {
      "cell_type": "code",
      "execution_count": 3,
      "metadata": {
        "colab": {
          "base_uri": "https://localhost:8080/"
        },
        "id": "QqDBSwvqNGp5",
        "outputId": "c73251dc-74cf-47da-99e4-0d419f6f2483"
      },
      "outputs": [
        {
          "output_type": "stream",
          "name": "stdout",
          "text": [
            "{'Marte', 'Venus', 'Júpiter'}\n",
            "3\n"
          ]
        }
      ],
      "source": [
        "# set\n",
        "planetas = {'Marte', 'Júpiter', 'Venus'}\n",
        "print(planetas)\n",
        "#largo\n",
        "print(len(planetas))"
      ]
    },
    {
      "cell_type": "code",
      "source": [
        "#revisar si un elemento esta presente\n",
        "print('Tierra' in planetas)"
      ],
      "metadata": {
        "colab": {
          "base_uri": "https://localhost:8080/"
        },
        "id": "2_2zPFnuNdcp",
        "outputId": "25a1048d-e7fd-42bf-cc2c-8e62c96a384c"
      },
      "execution_count": 2,
      "outputs": [
        {
          "output_type": "stream",
          "name": "stdout",
          "text": [
            "False\n"
          ]
        }
      ]
    },
    {
      "cell_type": "code",
      "source": [
        "#revisar si un elemento esta presente\n",
        "print('Venus' in planetas)"
      ],
      "metadata": {
        "colab": {
          "base_uri": "https://localhost:8080/"
        },
        "id": "261VneqsNrwC",
        "outputId": "2494ffae-e3e9-4594-cdff-e91d8ff6d2f0"
      },
      "execution_count": 4,
      "outputs": [
        {
          "output_type": "stream",
          "name": "stdout",
          "text": [
            "True\n"
          ]
        }
      ]
    },
    {
      "cell_type": "code",
      "source": [
        "#agregar un elemento\n",
        "planetas.add('Tierra')\n",
        "print(planetas)"
      ],
      "metadata": {
        "colab": {
          "base_uri": "https://localhost:8080/"
        },
        "id": "_xRhx4STNwZH",
        "outputId": "f05775a6-ba45-4086-fa26-3527ae3b0931"
      },
      "execution_count": 5,
      "outputs": [
        {
          "output_type": "stream",
          "name": "stdout",
          "text": [
            "{'Marte', 'Venus', 'Júpiter', 'Tierra'}\n"
          ]
        }
      ]
    },
    {
      "cell_type": "code",
      "source": [
        "#agregar un elemento\n",
        "planetas.add('Neptuno')\n",
        "print(planetas)"
      ],
      "metadata": {
        "colab": {
          "base_uri": "https://localhost:8080/"
        },
        "id": "se2cKDUUN88H",
        "outputId": "4a5e21de-83b3-4b62-d643-e47760917d76"
      },
      "execution_count": 6,
      "outputs": [
        {
          "output_type": "stream",
          "name": "stdout",
          "text": [
            "{'Venus', 'Júpiter', 'Neptuno', 'Tierra', 'Marte'}\n"
          ]
        }
      ]
    },
    {
      "cell_type": "code",
      "source": [
        "#no se puede duplicar elementos\n",
        "planetas.add('Tierra')\n",
        "print(planetas)"
      ],
      "metadata": {
        "colab": {
          "base_uri": "https://localhost:8080/"
        },
        "id": "rWZEFr1uODYZ",
        "outputId": "9a180116-f7be-460a-cb88-288e601d0c43"
      },
      "execution_count": 7,
      "outputs": [
        {
          "output_type": "stream",
          "name": "stdout",
          "text": [
            "{'Venus', 'Júpiter', 'Neptuno', 'Tierra', 'Marte'}\n"
          ]
        }
      ]
    },
    {
      "cell_type": "code",
      "source": [
        "#eliminar elemento posiblemente arrojando un error\n",
        "planetas.remove('Venus')\n",
        "print(planetas)"
      ],
      "metadata": {
        "colab": {
          "base_uri": "https://localhost:8080/"
        },
        "id": "YkXZihotOKqD",
        "outputId": "4a21f84b-611d-4602-efbd-b5df10120fdb"
      },
      "execution_count": 8,
      "outputs": [
        {
          "output_type": "stream",
          "name": "stdout",
          "text": [
            "{'Júpiter', 'Neptuno', 'Tierra', 'Marte'}\n"
          ]
        }
      ]
    },
    {
      "cell_type": "code",
      "source": [
        "#eliminar elemento sin arrojar un error\n",
        "planetas.discard('Júpiter')\n",
        "print(planetas)"
      ],
      "metadata": {
        "colab": {
          "base_uri": "https://localhost:8080/"
        },
        "id": "yX7FBJLsOemz",
        "outputId": "e440e89c-b0f9-4940-bc5a-2d9f565b42b9"
      },
      "execution_count": 9,
      "outputs": [
        {
          "output_type": "stream",
          "name": "stdout",
          "text": [
            "{'Neptuno', 'Tierra', 'Marte'}\n"
          ]
        }
      ]
    },
    {
      "cell_type": "code",
      "source": [
        "#limpiar set\n",
        "planetas.clear()\n",
        "print(planetas)"
      ],
      "metadata": {
        "colab": {
          "base_uri": "https://localhost:8080/"
        },
        "id": "AU3F76reOtWj",
        "outputId": "03dee6a4-e179-4d70-fc4a-e0175ffd9790"
      },
      "execution_count": 10,
      "outputs": [
        {
          "output_type": "stream",
          "name": "stdout",
          "text": [
            "set()\n"
          ]
        }
      ]
    },
    {
      "cell_type": "markdown",
      "source": [
        "esta vacío pero se puede seguir usando"
      ],
      "metadata": {
        "id": "yfZybUoZO6Yq"
      }
    },
    {
      "cell_type": "code",
      "source": [
        "planetas.add('Tierra')\n",
        "print(planetas)"
      ],
      "metadata": {
        "colab": {
          "base_uri": "https://localhost:8080/"
        },
        "id": "HAEivc01PSmI",
        "outputId": "f6ee1f17-1f6d-4462-b787-5d60fbb9e884"
      },
      "execution_count": 11,
      "outputs": [
        {
          "output_type": "stream",
          "name": "stdout",
          "text": [
            "{'Tierra'}\n"
          ]
        }
      ]
    },
    {
      "cell_type": "code",
      "source": [
        "planetas.add('Venus')\n",
        "print(planetas)"
      ],
      "metadata": {
        "colab": {
          "base_uri": "https://localhost:8080/"
        },
        "id": "wnbRoqbOPgfc",
        "outputId": "75da8941-c866-41be-921f-b82cd311676e"
      },
      "execution_count": 12,
      "outputs": [
        {
          "output_type": "stream",
          "name": "stdout",
          "text": [
            "{'Tierra', 'Venus'}\n"
          ]
        }
      ]
    },
    {
      "cell_type": "code",
      "source": [
        "planetas.add('Neptuno')\n",
        "print(planetas)"
      ],
      "metadata": {
        "colab": {
          "base_uri": "https://localhost:8080/"
        },
        "id": "EM1N784VPk5h",
        "outputId": "f0e9706d-9d17-403d-c315-b864ec98174a"
      },
      "execution_count": 13,
      "outputs": [
        {
          "output_type": "stream",
          "name": "stdout",
          "text": [
            "{'Neptuno', 'Tierra', 'Venus'}\n"
          ]
        }
      ]
    },
    {
      "cell_type": "markdown",
      "source": [
        "como agregar varias a la vez?"
      ],
      "metadata": {
        "id": "ZeNB2weqQJwA"
      }
    },
    {
      "cell_type": "code",
      "source": [
        "#set eliminado\n",
        "del planetas"
      ],
      "metadata": {
        "id": "Fc8pc-_fQN8T"
      },
      "execution_count": null,
      "outputs": []
    }
  ]
}