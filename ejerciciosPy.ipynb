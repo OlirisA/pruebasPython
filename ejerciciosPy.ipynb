{
  "nbformat": 4,
  "nbformat_minor": 0,
  "metadata": {
    "colab": {
      "name": "ejerciciosPy.ipynb",
      "provenance": [],
      "authorship_tag": "ABX9TyO1rTxPiIFU415dTAkIYJNe",
      "include_colab_link": true
    },
    "kernelspec": {
      "name": "python3",
      "display_name": "Python 3"
    },
    "language_info": {
      "name": "python"
    }
  },
  "cells": [
    {
      "cell_type": "markdown",
      "metadata": {
        "id": "view-in-github",
        "colab_type": "text"
      },
      "source": [
        "<a href=\"https://colab.research.google.com/github/OlirisA/pruebasPython/blob/main/ejerciciosPy.ipynb\" target=\"_parent\"><img src=\"https://colab.research.google.com/assets/colab-badge.svg\" alt=\"Open In Colab\"/></a>"
      ]
    },
    {
      "cell_type": "markdown",
      "source": [
        "Ejercicio 1"
      ],
      "metadata": {
        "id": "PX8ffdo98Jvo"
      }
    },
    {
      "cell_type": "code",
      "execution_count": 56,
      "metadata": {
        "id": "kmWTchohuJxW",
        "colab": {
          "base_uri": "https://localhost:8080/"
        },
        "outputId": "c1be2bea-3931-46fb-872e-264f32d9df97"
      },
      "outputs": [
        {
          "output_type": "stream",
          "name": "stdout",
          "text": [
            "Calificación: 9\n",
            "A\n"
          ]
        }
      ],
      "source": [
        "x = int(input(\"Calificación: \"))\n",
        "\n",
        "if x >= 9 and x <= 10:\n",
        "  print(\"A\")\n",
        "elif x == 8:\n",
        "  print(\"B\")\n",
        "elif x == 7:\n",
        "  print(\"C\")\n",
        "elif x == 6:\n",
        "  print(\"D\")\n",
        "elif x >= 0 and x < 6:\n",
        "  print(\"F\")\n",
        "else:\n",
        "  print(\"Valor desconocido\")"
      ]
    },
    {
      "cell_type": "markdown",
      "source": [
        "Ejercicio 2"
      ],
      "metadata": {
        "id": "FzgIYD5Z8PAk"
      }
    },
    {
      "cell_type": "code",
      "source": [
        "num = 0\n",
        "while num <5:\n",
        "  num = num + 1\n",
        "  print(num)"
      ],
      "metadata": {
        "colab": {
          "base_uri": "https://localhost:8080/"
        },
        "id": "S6bq6eV-yIIA",
        "outputId": "b2ca9f7f-1953-489d-b0e9-e9a15eb3cc31"
      },
      "execution_count": 53,
      "outputs": [
        {
          "output_type": "stream",
          "name": "stdout",
          "text": [
            "1\n",
            "2\n",
            "3\n",
            "4\n",
            "5\n"
          ]
        }
      ]
    },
    {
      "cell_type": "markdown",
      "source": [
        "el **num = num + 1** se puede sustituir por **num+=1**"
      ],
      "metadata": {
        "id": "FRVeOw-sD5eM"
      }
    }
  ]
}