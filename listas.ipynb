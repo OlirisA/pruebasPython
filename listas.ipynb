{
  "nbformat": 4,
  "nbformat_minor": 0,
  "metadata": {
    "colab": {
      "name": "listas.ipynb",
      "provenance": [],
      "authorship_tag": "ABX9TyOmJJWG64VuiqW3EcEH4IuV",
      "include_colab_link": true
    },
    "kernelspec": {
      "name": "python3",
      "display_name": "Python 3"
    },
    "language_info": {
      "name": "python"
    }
  },
  "cells": [
    {
      "cell_type": "markdown",
      "metadata": {
        "id": "view-in-github",
        "colab_type": "text"
      },
      "source": [
        "<a href=\"https://colab.research.google.com/github/OlirisA/pruebasPython/blob/main/listas.ipynb\" target=\"_parent\"><img src=\"https://colab.research.google.com/assets/colab-badge.svg\" alt=\"Open In Colab\"/></a>"
      ]
    },
    {
      "cell_type": "code",
      "execution_count": null,
      "metadata": {
        "colab": {
          "base_uri": "https://localhost:8080/"
        },
        "id": "eV3P0I3HdaRb",
        "outputId": "92a02906-7749-48b5-ac86-b481cd22cd29"
      },
      "outputs": [
        {
          "output_type": "stream",
          "name": "stdout",
          "text": [
            "['Alicia', 'Chantell', 'Roxana', 'Oli']\n"
          ]
        }
      ],
      "source": [
        "nombres=['Alicia', 'Chantell', 'Roxana', 'Oli']\n",
        "print(nombres)"
      ]
    },
    {
      "cell_type": "markdown",
      "source": [
        "Largo de una lista"
      ],
      "metadata": {
        "id": "SX8eNax7pqmE"
      }
    },
    {
      "cell_type": "code",
      "source": [
        "print(len(nombres))"
      ],
      "metadata": {
        "colab": {
          "base_uri": "https://localhost:8080/"
        },
        "id": "ctVmmNItpop-",
        "outputId": "d9eeb3b3-46f0-4ee2-977e-b59f962cc548"
      },
      "execution_count": null,
      "outputs": [
        {
          "output_type": "stream",
          "name": "stdout",
          "text": [
            "4\n"
          ]
        }
      ]
    },
    {
      "cell_type": "markdown",
      "source": [
        "cambiar valor CORREGIRLO"
      ],
      "metadata": {
        "id": "eUTNv_Xkpzz9"
      }
    },
    {
      "cell_type": "code",
      "source": [
        "nombres=['Alicia', 'Chantell', 'Roxana', 'Oli']\n",
        "nombres[2]=\"Marcela\"\n",
        "print(nombres)"
      ],
      "metadata": {
        "colab": {
          "base_uri": "https://localhost:8080/"
        },
        "id": "A8Qf5ZDBp2KI",
        "outputId": "05e5387b-35f9-4632-84a0-193490032725"
      },
      "execution_count": 1,
      "outputs": [
        {
          "output_type": "stream",
          "name": "stdout",
          "text": [
            "['Alicia', 'Chantell', 'Marcela', 'Oli']\n"
          ]
        }
      ]
    },
    {
      "cell_type": "markdown",
      "source": [
        "agregar elemento"
      ],
      "metadata": {
        "id": "Iguy1y7oq0lI"
      }
    },
    {
      "cell_type": "code",
      "source": [
        "nombres.append(\"Celia\")\n",
        "print(nombres)"
      ],
      "metadata": {
        "colab": {
          "base_uri": "https://localhost:8080/"
        },
        "id": "5FXlgGo7rBLh",
        "outputId": "32c6aad2-4860-4e36-c737-fc7226c30bdb"
      },
      "execution_count": null,
      "outputs": [
        {
          "output_type": "stream",
          "name": "stdout",
          "text": [
            "['Alicia', 'Chantell', 'Roxana', 'Oli', 'Celia']\n"
          ]
        }
      ]
    },
    {
      "cell_type": "markdown",
      "source": [
        "eliminar elemento"
      ],
      "metadata": {
        "id": "S9L15rtSr_cC"
      }
    },
    {
      "cell_type": "code",
      "source": [
        "del nombres[1]\n",
        "print(nombres)"
      ],
      "metadata": {
        "colab": {
          "base_uri": "https://localhost:8080/"
        },
        "id": "1_lX2QjssCd2",
        "outputId": "ca802007-9c74-444b-bd6f-95da9ef3f249"
      },
      "execution_count": null,
      "outputs": [
        {
          "output_type": "stream",
          "name": "stdout",
          "text": [
            "['Alicia', 'Roxana', 'Oli']\n"
          ]
        }
      ]
    }
  ]
}