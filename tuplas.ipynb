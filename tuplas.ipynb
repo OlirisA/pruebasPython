{
  "nbformat": 4,
  "nbformat_minor": 0,
  "metadata": {
    "colab": {
      "name": "tuplas.ipynb",
      "provenance": [],
      "authorship_tag": "ABX9TyP3uZ3GkAtBSycIVo5/zMJN",
      "include_colab_link": true
    },
    "kernelspec": {
      "name": "python3",
      "display_name": "Python 3"
    },
    "language_info": {
      "name": "python"
    }
  },
  "cells": [
    {
      "cell_type": "markdown",
      "metadata": {
        "id": "view-in-github",
        "colab_type": "text"
      },
      "source": [
        "<a href=\"https://colab.research.google.com/github/OlirisA/pruebasPython/blob/main/tuplas.ipynb\" target=\"_parent\"><img src=\"https://colab.research.google.com/assets/colab-badge.svg\" alt=\"Open In Colab\"/></a>"
      ]
    },
    {
      "cell_type": "code",
      "execution_count": 1,
      "metadata": {
        "colab": {
          "base_uri": "https://localhost:8080/"
        },
        "id": "MQZ_QE22tmF9",
        "outputId": "3357291f-6ffb-4f79-a545-4a7477d89ab0"
      },
      "outputs": [
        {
          "output_type": "stream",
          "name": "stdout",
          "text": [
            "('Naranja', 'Plátano', 'Guayaba')\n"
          ]
        }
      ],
      "source": [
        "#Definir una tupla\n",
        "frutas = ('Naranja', 'Plátano', 'Guayaba')\n",
        "print(frutas)"
      ]
    },
    {
      "cell_type": "code",
      "source": [
        "print(len(frutas))"
      ],
      "metadata": {
        "colab": {
          "base_uri": "https://localhost:8080/"
        },
        "id": "8MvxNnqMv5sF",
        "outputId": "8eebe854-f448-4061-f49b-a336de422c94"
      },
      "execution_count": 2,
      "outputs": [
        {
          "output_type": "stream",
          "name": "stdout",
          "text": [
            "3\n"
          ]
        }
      ]
    },
    {
      "cell_type": "code",
      "source": [
        "frutas = ('Naranja', 'Plátano', 'Guayaba','Pera', 'Manzana')\n",
        "print(frutas)"
      ],
      "metadata": {
        "colab": {
          "base_uri": "https://localhost:8080/"
        },
        "id": "XMeD2Y_-wB6j",
        "outputId": "397352db-899f-4a56-cfd3-6be219bd713a"
      },
      "execution_count": 3,
      "outputs": [
        {
          "output_type": "stream",
          "name": "stdout",
          "text": [
            "('Naranja', 'Plátano', 'Guayaba', 'Pera', 'Manzana')\n"
          ]
        }
      ]
    },
    {
      "cell_type": "code",
      "source": [
        "print(len(frutas))"
      ],
      "metadata": {
        "colab": {
          "base_uri": "https://localhost:8080/"
        },
        "id": "xkryN6YJwMW5",
        "outputId": "663b2c76-d249-4079-bb15-07eb6cbaf0bd"
      },
      "execution_count": 4,
      "outputs": [
        {
          "output_type": "stream",
          "name": "stdout",
          "text": [
            "5\n"
          ]
        }
      ]
    },
    {
      "cell_type": "code",
      "source": [
        "#acceder a un elemento\n",
        "print(frutas[2])"
      ],
      "metadata": {
        "colab": {
          "base_uri": "https://localhost:8080/"
        },
        "id": "Shi9ZHDFwRzs",
        "outputId": "7e2a2140-3843-4870-d6e6-98a2de659e7c"
      },
      "execution_count": 5,
      "outputs": [
        {
          "output_type": "stream",
          "name": "stdout",
          "text": [
            "Guayaba\n"
          ]
        }
      ]
    },
    {
      "cell_type": "code",
      "source": [
        "#acceder a un elemento\n",
        "print(frutas[4])"
      ],
      "metadata": {
        "colab": {
          "base_uri": "https://localhost:8080/"
        },
        "id": "zy--G0xQwdQI",
        "outputId": "2cbf1b72-99d6-4982-c84d-f3d7825eed48"
      },
      "execution_count": 6,
      "outputs": [
        {
          "output_type": "stream",
          "name": "stdout",
          "text": [
            "Manzana\n"
          ]
        }
      ]
    },
    {
      "cell_type": "code",
      "source": [
        "#navegación inversa\n",
        "print(frutas[-1])"
      ],
      "metadata": {
        "colab": {
          "base_uri": "https://localhost:8080/"
        },
        "id": "oaFvJrkIwjH3",
        "outputId": "3643b611-6a23-4c52-cb15-28b05a171730"
      },
      "execution_count": 7,
      "outputs": [
        {
          "output_type": "stream",
          "name": "stdout",
          "text": [
            "Manzana\n"
          ]
        }
      ]
    },
    {
      "cell_type": "code",
      "source": [
        "#navegación inversa\n",
        "print(frutas[-3])"
      ],
      "metadata": {
        "colab": {
          "base_uri": "https://localhost:8080/"
        },
        "id": "h32G2nqTws1M",
        "outputId": "f16968a5-6c45-4261-e740-d059d566ec01"
      },
      "execution_count": 8,
      "outputs": [
        {
          "output_type": "stream",
          "name": "stdout",
          "text": [
            "Guayaba\n"
          ]
        }
      ]
    },
    {
      "cell_type": "code",
      "source": [
        "#acceder a un rango\n",
        "print(frutas[0:2]) #no incluye último"
      ],
      "metadata": {
        "colab": {
          "base_uri": "https://localhost:8080/"
        },
        "id": "NdPFD0t9wwuW",
        "outputId": "a5a58eb4-150c-4c69-e5e3-963b669c8c5d"
      },
      "execution_count": 10,
      "outputs": [
        {
          "output_type": "stream",
          "name": "stdout",
          "text": [
            "('Naranja', 'Plátano')\n"
          ]
        }
      ]
    },
    {
      "cell_type": "code",
      "source": [
        "#cambiar valor tupla a lista para modificaciones\n",
        "frutasLista = list(frutas)\n",
        "print(frutasLista)"
      ],
      "metadata": {
        "colab": {
          "base_uri": "https://localhost:8080/"
        },
        "id": "1KMz1cazxY86",
        "outputId": "f19605f6-076a-4676-a26e-0a533a30ac6d"
      },
      "execution_count": 13,
      "outputs": [
        {
          "output_type": "stream",
          "name": "stdout",
          "text": [
            "['Naranja', 'Plátano', 'Guayaba', 'Pera', 'Manzana']\n"
          ]
        }
      ]
    },
    {
      "cell_type": "code",
      "source": [
        "frutasLista[0] = 'Mango'\n",
        "print(frutasLista)"
      ],
      "metadata": {
        "colab": {
          "base_uri": "https://localhost:8080/"
        },
        "id": "cvrxPhyAzL-8",
        "outputId": "03ad3f66-c549-4e29-edcc-10700bf3ec1e"
      },
      "execution_count": 14,
      "outputs": [
        {
          "output_type": "stream",
          "name": "stdout",
          "text": [
            "['Mango', 'Plátano', 'Guayaba', 'Pera', 'Manzana']\n"
          ]
        }
      ]
    },
    {
      "cell_type": "code",
      "source": [
        "frutas = tuple(frutasLista)\n",
        "print(frutas)"
      ],
      "metadata": {
        "colab": {
          "base_uri": "https://localhost:8080/"
        },
        "id": "tQyghdD7zhLD",
        "outputId": "904aa9ac-8667-46f3-dda9-99ce97acb1ad"
      },
      "execution_count": 15,
      "outputs": [
        {
          "output_type": "stream",
          "name": "stdout",
          "text": [
            "('Mango', 'Plátano', 'Guayaba', 'Pera', 'Manzana')\n"
          ]
        }
      ]
    },
    {
      "cell_type": "code",
      "source": [
        "#eliminar la tupla\n",
        "del frutas"
      ],
      "metadata": {
        "id": "tyKFMATBztjX"
      },
      "execution_count": 16,
      "outputs": []
    }
  ]
}