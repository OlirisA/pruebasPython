{
  "nbformat": 4,
  "nbformat_minor": 0,
  "metadata": {
    "colab": {
      "name": "asignVScomp.ipynb",
      "provenance": [],
      "authorship_tag": "ABX9TyPaxx0nv/VZ9Ls/rCMVm32B",
      "include_colab_link": true
    },
    "kernelspec": {
      "name": "python3",
      "display_name": "Python 3"
    },
    "language_info": {
      "name": "python"
    }
  },
  "cells": [
    {
      "cell_type": "markdown",
      "metadata": {
        "id": "view-in-github",
        "colab_type": "text"
      },
      "source": [
        "<a href=\"https://colab.research.google.com/github/OlirisA/pruebasPython/blob/main/asignVScomp.ipynb\" target=\"_parent\"><img src=\"https://colab.research.google.com/assets/colab-badge.svg\" alt=\"Open In Colab\"/></a>"
      ]
    },
    {
      "cell_type": "markdown",
      "source": [
        "== son iguales\n",
        "\n",
        "!= son distintos\n",
        "\n",
        ">= es mayor o igual >=\n",
        "\n",
        "<= es menor o igual"
      ],
      "metadata": {
        "id": "aF4L0jAj_DmA"
      }
    },
    {
      "cell_type": "code",
      "execution_count": 1,
      "metadata": {
        "colab": {
          "base_uri": "https://localhost:8080/"
        },
        "id": "7MCAKCiD9uSE",
        "outputId": "cf05c7c4-6e7d-49de-d51e-647eb814846d"
      },
      "outputs": [
        {
          "output_type": "execute_result",
          "data": {
            "text/plain": [
              "False"
            ]
          },
          "metadata": {},
          "execution_count": 1
        }
      ],
      "source": [
        "3 == '3'"
      ]
    },
    {
      "cell_type": "code",
      "source": [
        "'pepe' == '3'"
      ],
      "metadata": {
        "colab": {
          "base_uri": "https://localhost:8080/"
        },
        "id": "NpwRPgS9-VMe",
        "outputId": "2b8c7b6c-5550-4dc8-f71c-0f20e66e92c6"
      },
      "execution_count": 3,
      "outputs": [
        {
          "output_type": "execute_result",
          "data": {
            "text/plain": [
              "False"
            ]
          },
          "metadata": {},
          "execution_count": 3
        }
      ]
    },
    {
      "cell_type": "code",
      "source": [
        "'pepe' == '3333'"
      ],
      "metadata": {
        "colab": {
          "base_uri": "https://localhost:8080/"
        },
        "id": "H3bpjFpF-d7C",
        "outputId": "5c50f008-9cfb-4139-ec78-416c31da2b74"
      },
      "execution_count": 4,
      "outputs": [
        {
          "output_type": "execute_result",
          "data": {
            "text/plain": [
              "False"
            ]
          },
          "metadata": {},
          "execution_count": 4
        }
      ]
    },
    {
      "cell_type": "markdown",
      "source": [
        "aunque haya 4 símbolos no son iguales\n"
      ],
      "metadata": {
        "id": "z-e3MLt1-rGT"
      }
    },
    {
      "cell_type": "code",
      "source": [
        "'pepe' == 'pepe'"
      ],
      "metadata": {
        "colab": {
          "base_uri": "https://localhost:8080/"
        },
        "id": "zLkj_r7Z-kPd",
        "outputId": "ef7c01b7-2ea6-46c7-c235-734855abfd5c"
      },
      "execution_count": 5,
      "outputs": [
        {
          "output_type": "execute_result",
          "data": {
            "text/plain": [
              "True"
            ]
          },
          "metadata": {},
          "execution_count": 5
        }
      ]
    },
    {
      "cell_type": "code",
      "source": [
        "3 != '3'"
      ],
      "metadata": {
        "colab": {
          "base_uri": "https://localhost:8080/"
        },
        "id": "vgj3U7Vb-5D4",
        "outputId": "a186b80d-a466-43d3-ae90-a1b65afd825a"
      },
      "execution_count": 6,
      "outputs": [
        {
          "output_type": "execute_result",
          "data": {
            "text/plain": [
              "True"
            ]
          },
          "metadata": {},
          "execution_count": 6
        }
      ]
    },
    {
      "cell_type": "markdown",
      "source": [
        "son distintos? si, son distintos"
      ],
      "metadata": {
        "id": "Q4KARTcT-9gP"
      }
    },
    {
      "cell_type": "code",
      "source": [
        ""
      ],
      "metadata": {
        "id": "DP0TL2L6_BLo"
      },
      "execution_count": null,
      "outputs": []
    }
  ]
}