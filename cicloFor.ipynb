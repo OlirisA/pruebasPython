{
  "nbformat": 4,
  "nbformat_minor": 0,
  "metadata": {
    "colab": {
      "name": "cicloFor.ipynb",
      "provenance": [],
      "authorship_tag": "ABX9TyNgc/ROKQUTs97AG1794nBX",
      "include_colab_link": true
    },
    "kernelspec": {
      "name": "python3",
      "display_name": "Python 3"
    },
    "language_info": {
      "name": "python"
    }
  },
  "cells": [
    {
      "cell_type": "markdown",
      "metadata": {
        "id": "view-in-github",
        "colab_type": "text"
      },
      "source": [
        "<a href=\"https://colab.research.google.com/github/OlirisA/pruebasPython/blob/main/cicloFor.ipynb\" target=\"_parent\"><img src=\"https://colab.research.google.com/assets/colab-badge.svg\" alt=\"Open In Colab\"/></a>"
      ]
    },
    {
      "cell_type": "code",
      "execution_count": 4,
      "metadata": {
        "colab": {
          "base_uri": "https://localhost:8080/"
        },
        "id": "V9dcOqidKZc0",
        "outputId": "5ed59c01-ef50-4b43-861f-2164f72526d1"
      },
      "outputs": [
        {
          "output_type": "stream",
          "name": "stdout",
          "text": [
            "p\n",
            "h\n",
            "i\n",
            "l\n",
            "a\n",
            "u\n",
            "t\n",
            "í\n",
            "a\n",
            ".\n"
          ]
        }
      ],
      "source": [
        "cadena = \"philautía\"\n",
        "\n",
        "for c in cadena:\n",
        "  print(c)\n",
        "else:\n",
        "  print(\".\")"
      ]
    },
    {
      "cell_type": "code",
      "source": [
        "for i in \"holanda\":\n",
        "  if i == \"a\":\n",
        "    print(f\"letra encontrada: {i}\")\n",
        "    break\n",
        "else:\n",
        "  print(\"fin del ciclo\")"
      ],
      "metadata": {
        "colab": {
          "base_uri": "https://localhost:8080/"
        },
        "id": "wp55EzbFLubM",
        "outputId": "009274b2-4a83-45c2-e2e0-c16a9bfeed6f"
      },
      "execution_count": 10,
      "outputs": [
        {
          "output_type": "stream",
          "name": "stdout",
          "text": [
            "letra encontrada: a\n"
          ]
        }
      ]
    },
    {
      "cell_type": "markdown",
      "source": [
        "**IMPARES**"
      ],
      "metadata": {
        "id": "INenHHAVO9yS"
      }
    },
    {
      "cell_type": "code",
      "source": [
        "for i in range(6):\n",
        "  if i % 2 == 0 :\n",
        "    continue\n",
        "  print(f\"letra encontrada: {i}\")"
      ],
      "metadata": {
        "colab": {
          "base_uri": "https://localhost:8080/"
        },
        "id": "tHo-RA3vOPXU",
        "outputId": "699b75f4-c92f-44e1-d60e-bfca3d0540fe"
      },
      "execution_count": 6,
      "outputs": [
        {
          "output_type": "stream",
          "name": "stdout",
          "text": [
            "letra encontrada: 1\n",
            "letra encontrada: 3\n",
            "letra encontrada: 5\n"
          ]
        }
      ]
    },
    {
      "cell_type": "markdown",
      "source": [
        "**PARES**"
      ],
      "metadata": {
        "id": "RZ-QeJsVPCwj"
      }
    },
    {
      "cell_type": "code",
      "source": [
        "for i in range(6):\n",
        "  if i % 2 != 0 :\n",
        "    continue\n",
        "  print(f\"letra encontrada: {i}\")"
      ],
      "metadata": {
        "colab": {
          "base_uri": "https://localhost:8080/"
        },
        "id": "Y3YVDk-TO4GU",
        "outputId": "395b20a7-5b23-45ef-982e-eb3ab8479f6b"
      },
      "execution_count": 8,
      "outputs": [
        {
          "output_type": "stream",
          "name": "stdout",
          "text": [
            "letra encontrada: 0\n",
            "letra encontrada: 2\n",
            "letra encontrada: 4\n"
          ]
        }
      ]
    },
    {
      "cell_type": "markdown",
      "source": [
        "**IMPARES**"
      ],
      "metadata": {
        "id": "tQGXnMPmR9mX"
      }
    },
    {
      "cell_type": "code",
      "source": [
        "for i in range(6):\n",
        "  if i % 2 != 0 :\n",
        "    #continue\n",
        "    print(f\"letra encontrada: {i}\")"
      ],
      "metadata": {
        "colab": {
          "base_uri": "https://localhost:8080/"
        },
        "id": "sWgje2GKR1S2",
        "outputId": "f565c9c5-9821-4b19-b945-ec2400d710a5"
      },
      "execution_count": 11,
      "outputs": [
        {
          "output_type": "stream",
          "name": "stdout",
          "text": [
            "letra encontrada: 1\n",
            "letra encontrada: 3\n",
            "letra encontrada: 5\n"
          ]
        }
      ]
    },
    {
      "cell_type": "markdown",
      "source": [
        "**PARES**"
      ],
      "metadata": {
        "id": "NNTLO2bvSEq4"
      }
    },
    {
      "cell_type": "code",
      "source": [
        "for i in range(6):\n",
        "  if i % 2 == 0 :\n",
        "    #continue\n",
        "    print(f\"letra encontrada: {i}\")"
      ],
      "metadata": {
        "colab": {
          "base_uri": "https://localhost:8080/"
        },
        "id": "YHyNAPIaSCWi",
        "outputId": "fba8dc25-213f-4b2d-8d44-0a48a7cced6b"
      },
      "execution_count": 12,
      "outputs": [
        {
          "output_type": "stream",
          "name": "stdout",
          "text": [
            "letra encontrada: 0\n",
            "letra encontrada: 2\n",
            "letra encontrada: 4\n"
          ]
        }
      ]
    },
    {
      "cell_type": "code",
      "source": [
        "for x in range(6):\n",
        "  if x == 7:\n",
        "    break\n",
        "  print(x)\n",
        "else:\n",
        "  print(\"Finally finished!\")"
      ],
      "metadata": {
        "colab": {
          "base_uri": "https://localhost:8080/"
        },
        "id": "Wq0Nk-Ptehph",
        "outputId": "23c795fd-19ef-4070-c61d-b0c90c66939d"
      },
      "execution_count": 15,
      "outputs": [
        {
          "output_type": "stream",
          "name": "stdout",
          "text": [
            "0\n",
            "1\n",
            "2\n",
            "3\n",
            "4\n",
            "5\n",
            "Finally finished!\n"
          ]
        }
      ]
    },
    {
      "cell_type": "code",
      "source": [
        "i = 0\n",
        "while i < 6:\n",
        "  i += 1\n",
        "  if i == 3:\n",
        "    continue\n",
        "  print(i)"
      ],
      "metadata": {
        "colab": {
          "base_uri": "https://localhost:8080/"
        },
        "id": "8bJklQlJfhWk",
        "outputId": "f7dc84da-efc0-43ef-f6fb-6f9e3b4e8b29"
      },
      "execution_count": 17,
      "outputs": [
        {
          "output_type": "stream",
          "name": "stdout",
          "text": [
            "1\n",
            "2\n",
            "4\n",
            "5\n",
            "6\n"
          ]
        }
      ]
    },
    {
      "cell_type": "markdown",
      "source": [
        "**continue** excluyelo, no lo tomes en cuenta"
      ],
      "metadata": {
        "id": "Qu5ar2l-f9Zv"
      }
    },
    {
      "cell_type": "markdown",
      "source": [
        "❤Listas: ['pepita', 1, 'B', 3.14]   se pueden eliminar, agregar valores y cambiar posiciones\n",
        "\n",
        "listas[:3] (sale todo lo que esta antes del 3)\n",
        "\n",
        "listas[1:] (sale todo desde el 1 incluido hasta el final)\n",
        "\n",
        "Tuplas: ('pepita', 'oliris', 'celia')\n",
        "\n",
        "Set: {'alicia', 'ainara', 'marcela'}\n",
        "\n",
        "❤Dicciona: {key: value}\n",
        "\n",
        "FemCoders = {'1 : Alicia, Celia, Ainara, Marcela, Oli}\n",
        "            {'2 : AnaK, SanJuan, Flor, Chantell, Angelica, Roxana}"
      ],
      "metadata": {
        "id": "h62PnUHgiUF4"
      }
    }
  ]
}