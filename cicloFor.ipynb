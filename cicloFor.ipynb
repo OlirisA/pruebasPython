{
  "nbformat": 4,
  "nbformat_minor": 0,
  "metadata": {
    "colab": {
      "name": "cicloFor.ipynb",
      "provenance": [],
      "authorship_tag": "ABX9TyNvF5XQfXNIcu0k3CDoEuUm",
      "include_colab_link": true
    },
    "kernelspec": {
      "name": "python3",
      "display_name": "Python 3"
    },
    "language_info": {
      "name": "python"
    }
  },
  "cells": [
    {
      "cell_type": "markdown",
      "metadata": {
        "id": "view-in-github",
        "colab_type": "text"
      },
      "source": [
        "<a href=\"https://colab.research.google.com/github/OlirisA/pruebasPython/blob/main/cicloFor.ipynb\" target=\"_parent\"><img src=\"https://colab.research.google.com/assets/colab-badge.svg\" alt=\"Open In Colab\"/></a>"
      ]
    },
    {
      "cell_type": "code",
      "execution_count": 1,
      "metadata": {
        "colab": {
          "base_uri": "https://localhost:8080/"
        },
        "id": "V9dcOqidKZc0",
        "outputId": "893031bf-1acf-46fa-fe5d-4a5402b71efd"
      },
      "outputs": [
        {
          "output_type": "stream",
          "name": "stdout",
          "text": [
            "h\n",
            "o\n",
            "l\n",
            "a\n",
            "fin del ciclo for\n"
          ]
        }
      ],
      "source": [
        "cadena = \"hola\"\n",
        "\n",
        "for c in cadena:\n",
        "  print(c)\n",
        "else:\n",
        "  print(\"fin del ciclo for\")"
      ]
    }
  ]
}